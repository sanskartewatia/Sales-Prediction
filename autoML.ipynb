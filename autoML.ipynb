{
 "cells": [
  {
   "cell_type": "code",
   "execution_count": 19,
   "metadata": {},
   "outputs": [
    {
     "data": {
      "text/plain": [
       "513874.0"
      ]
     },
     "execution_count": 19,
     "metadata": {},
     "output_type": "execute_result"
    }
   ],
   "source": [
    "import numpy as np \n",
    "import pandas as pd \n",
    "import matplotlib.pyplot as plt \n",
    "import seaborn as sns \n",
    "from matplotlib import gridspec \n",
    "import random\n",
    "import xgboost as xgb\n",
    "from sklearn import preprocessing\n",
    "from math import sqrt\n",
    "train = pd.read_csv(\"train.csv\")\n",
    "test = pd.read_csv(\"test.csv\")\n",
    "top = np.percentile(train.Purchase,99.5)\n",
    "train = train[ (train['Purchase']<top) ]\n",
    "#test1.head()\n",
    "train.fillna(0,inplace=True)\n",
    "test.fillna(0,inplace=True)\n",
    "test['Product_Category_3']=test['Product_Category_3'].astype(int)\n",
    "train['Stay_In_Current_City_Years'].replace('4+',4,inplace=True)\n",
    "test['Stay_In_Current_City_Years'].replace('4+',4,inplace=True)\n",
    "\n",
    "new_age = {'0-17':0,'18-25':1,'26-35':2,'36-45':3,'46-50':4,'51-55':5,'55+':6}\n",
    "train.Age.replace(new_age,inplace=True)\n",
    "test.Age.replace(new_age,inplace=True)\n",
    "\n",
    "new_city = {'A':0, 'B':1, 'C':2}\n",
    "train.City_Category.replace(new_city,inplace=True)\n",
    "test.City_Category.replace(new_city,inplace=True)\n",
    "\n",
    "new_gender = {'F':0, 'M':1}\n",
    "train.Gender.replace(new_gender,inplace=True)\n",
    "test.Gender.replace(new_gender,inplace=True)\n",
    "\n",
    "user_id_to_category_map = {}\n",
    "customer_purchase_power = train.groupby(\"User_ID\")[\"Purchase\"].sum()\n",
    "customer_purchase_power.median()"
   ]
  },
  {
   "cell_type": "code",
   "execution_count": 20,
   "metadata": {},
   "outputs": [
    {
     "data": {
      "text/plain": [
       "513874.0"
      ]
     },
     "execution_count": 20,
     "metadata": {},
     "output_type": "execute_result"
    }
   ],
   "source": [
    "values = customer_purchase_power.iteritems()\n",
    "for key, val in values:\n",
    "    if val <= 143662.0:\n",
    "        user_id_to_category_map[key] = 1\n",
    "    elif val <= 202156.0:\n",
    "        user_id_to_category_map[key] = 2\n",
    "    elif val <= 275408.0:\n",
    "        user_id_to_category_map[key] = 3\n",
    "    elif val <= 378451.0:\n",
    "        user_id_to_category_map[key] = 4\n",
    "    elif val <= 513874.0:\n",
    "        user_id_to_category_map[key] = 5\n",
    "    elif val <= 687241.0:\n",
    "        user_id_to_category_map[key] = 6\n",
    "    elif val <= 934097.0:\n",
    "        user_id_to_category_map[key] = 7\n",
    "    elif val <= 1332584.0:\n",
    "        user_id_to_category_map[key] = 8\n",
    "    elif val <= 2029891.0:\n",
    "        user_id_to_category_map[key] = 9\n",
    "    else:\n",
    "        user_id_to_category_map[key] = 10\n",
    "customer_purchase_power.median()"
   ]
  },
  {
   "cell_type": "code",
   "execution_count": 21,
   "metadata": {},
   "outputs": [],
   "source": [
    "def get_customer_category(user_id):\n",
    "    if user_id in user_id_to_category_map:\n",
    "        return user_id_to_category_map[user_id]\n",
    "    return 5\n",
    "train[\"buying_power\"] = list(map(lambda user_id: get_customer_category(user_id), train[\"User_ID\"]))\n",
    "test[\"buying_power\"] = list(map(lambda user_id: get_customer_category(user_id), test[\"User_ID\"]))"
   ]
  },
  {
   "cell_type": "code",
   "execution_count": 22,
   "metadata": {},
   "outputs": [],
   "source": [
    "train[\"User_ID_MinPrice\"] = train.groupby(['User_ID'])['Purchase'].transform('min')\n",
    "userID_min_dict = train.groupby(['User_ID'])['Purchase'].min().to_dict()\n",
    "test['User_ID_MinPrice'] = test['User_ID'].apply(lambda x:userID_min_dict.get(x,0))\n",
    "\n",
    "train[\"User_ID_MaxPrice\"] = train.groupby(['User_ID'])['Purchase'].transform('max')\n",
    "userID_max_dict = train.groupby(['User_ID'])['Purchase'].max().to_dict()\n",
    "test['User_ID_MaxPrice'] = test['User_ID'].apply(lambda x:userID_max_dict.get(x,0))\n",
    "\n",
    "train[\"Product_ID_MinPrice\"] = train.groupby(['Product_ID'])['Purchase'].transform('min')\n",
    "productID_min_dict = train.groupby(['Product_ID'])['Purchase'].min().to_dict()\n",
    "test['Product_ID_MinPrice'] = test['Product_ID'].apply(lambda x:productID_min_dict.get(x,0))\n",
    "\n",
    "train[\"Product_ID_MaxPrice\"] = train.groupby(['Product_ID'])['Purchase'].transform('max')\n",
    "productID_max_dict = train.groupby(['Product_ID'])['Purchase'].max().to_dict()\n",
    "test['Product_ID_MaxPrice'] = test['Product_ID'].apply(lambda x:productID_max_dict.get(x,0))\n",
    "\n",
    "train[\"User_ID_Count\"] = train.groupby(['User_ID'])['User_ID'].transform('count')\n",
    "uID_count = train.groupby(['User_ID']).size().to_dict()\n",
    "test['User_ID_Count'] = test['User_ID'].apply(lambda x:uID_count.get(x,0))\n",
    "\n",
    "train[\"Product_ID_Count\"] = train.groupby(['Product_ID'])['Product_ID'].transform('count')\n",
    "pID_count = train.groupby(['Product_ID']).size().to_dict()\n",
    "test['Product_ID_Count'] = test['Product_ID'].apply(lambda x:pID_count.get(x,0))\n",
    "\n",
    "train[\"User_ID_MeanPrice\"] = train.groupby(['User_ID'])['Purchase'].transform('mean')\n",
    "userID_mean_dict = train.groupby(['User_ID'])['Purchase'].mean().to_dict()\n",
    "test['User_ID_MeanPrice'] = test['User_ID'].apply(lambda x:userID_mean_dict.get(x,0))\n",
    "\n",
    "train[\"Product_ID_MeanPrice\"] = train.groupby(['Product_ID'])['Purchase'].transform('mean')\n",
    "productID_mean_dict = train.groupby(['Product_ID'])['Purchase'].mean().to_dict()\n",
    "test['Product_ID_MeanPrice'] = test['Product_ID'].apply(lambda x:productID_mean_dict.get(x,0))\n",
    "\n",
    "train[\"Product_Cat1_MeanPrice\"] = train.groupby(['Product_Category_1'])['Purchase'].transform('mean')\n",
    "pc1_mean_dict = train.groupby(['Product_Category_1'])['Purchase'].mean().to_dict()\n",
    "test['Product_Cat1_MeanPrice'] = test['Product_Category_1'].apply(lambda x:pc1_mean_dict.get(x,0))\n",
    "\n",
    "train[\"Product_Cat1_MinPrice\"] = train.groupby(['Product_Category_1'])['Purchase'].transform('min')\n",
    "pc1_min_dict = train.groupby(['Product_Category_1'])['Purchase'].min().to_dict()\n",
    "test['Product_Cat1_MinPrice'] = test['Product_Category_1'].apply(lambda x:pc1_min_dict.get(x,0))\n",
    "\n",
    "train[\"Product_Cat1_MaxPrice\"] = train.groupby(['Product_Category_1'])['Purchase'].transform('max')\n",
    "pc1_max_dict = train.groupby(['Product_Category_1'])['Purchase'].max().to_dict()\n",
    "test['Product_Cat1_MaxPrice'] = test['Product_Category_1'].apply(lambda x:pc1_max_dict.get(x,0))\n",
    "\n",
    "train[\"Product_Cat2_MeanPrice\"] = train.groupby(['Product_Category_2'])['Purchase'].transform('mean')\n",
    "pc2_mean_dict = train.groupby(['Product_Category_2'])['Purchase'].mean().to_dict()\n",
    "test['Product_Cat2_MeanPrice'] = test['Product_Category_2'].apply(lambda x:pc2_mean_dict.get(x,0))\n",
    "\n",
    "train[\"Product_Cat2_MinPrice\"] = train.groupby(['Product_Category_2'])['Purchase'].transform('min')\n",
    "pc2_min_dict = train.groupby(['Product_Category_2'])['Purchase'].min().to_dict()\n",
    "test['Product_Cat2_MinPrice'] = test['Product_Category_2'].apply(lambda x:pc2_min_dict.get(x,0))\n",
    "\n",
    "train[\"Product_Cat2_MaxPrice\"] = train.groupby(['Product_Category_2'])['Purchase'].transform('max')\n",
    "pc2_max_dict = train.groupby(['Product_Category_2'])['Purchase'].max().to_dict()\n",
    "test['Product_Cat2_MaxPrice'] = test['Product_Category_2'].apply(lambda x:pc2_max_dict.get(x,0))\n",
    "\n",
    "train[\"Product_Cat3_MeanPrice\"] = train.groupby(['Product_Category_3'])['Purchase'].transform('mean')\n",
    "pc3_mean_dict = train.groupby(['Product_Category_3'])['Purchase'].mean().to_dict()\n",
    "test['Product_Cat3_MeanPrice'] = test['Product_Category_3'].apply(lambda x:pc3_mean_dict.get(x,0))\n",
    "\n",
    "train[\"Product_Cat3_MinPrice\"] = train.groupby(['Product_Category_3'])['Purchase'].transform('min')\n",
    "pc3_min_dict = train.groupby(['Product_Category_3'])['Purchase'].min().to_dict()\n",
    "test['Product_Cat3_MinPrice'] = test['Product_Category_3'].apply(lambda x:pc3_min_dict.get(x,0))\n",
    "\n",
    "train[\"Product_Cat3_MaxPrice\"] = train.groupby(['Product_Category_3'])['Purchase'].transform('max')\n",
    "pc3_max_dict = train.groupby(['Product_Category_3'])['Purchase'].max().to_dict()\n",
    "test['Product_Cat3_MaxPrice'] = test['Product_Category_3'].apply(lambda x:pc3_max_dict.get(x,0))\n",
    "\n",
    "userID_25p_dict = train.groupby(['User_ID'])['Purchase'].apply(lambda x:np.percentile(x,25)).to_dict()\n",
    "train['User_ID_25PercPrice'] = train['User_ID'].apply(lambda x:userID_25p_dict.get(x,0))\n",
    "test['User_ID_25PercPrice'] = test['User_ID'].apply(lambda x:userID_25p_dict.get(x,0))\n",
    "\n",
    "userID_50p_dict = train.groupby(['User_ID'])['Purchase'].apply(lambda x:np.percentile(x,50)).to_dict()\n",
    "train['User_ID_50PercPrice'] = train['User_ID'].apply(lambda x:userID_50p_dict.get(x,0))\n",
    "test['User_ID_50PercPrice'] = test['User_ID'].apply(lambda x:userID_50p_dict.get(x,0))\n",
    "\n",
    "userID_75p_dict = train.groupby(['User_ID'])['Purchase'].apply(lambda x:np.percentile(x,75)).to_dict()\n",
    "train['User_ID_75PercPrice'] = train['User_ID'].apply(lambda x:userID_75p_dict.get(x,0))\n",
    "test['User_ID_75PercPrice'] = test['User_ID'].apply(lambda x:userID_75p_dict.get(x,0))\n",
    "\n",
    "productID_25p_dict = train.groupby(['Product_ID'])['Purchase'].apply(lambda x:np.percentile(x,25)).to_dict()\n",
    "train['Product_ID_25PercPrice'] = train['Product_ID'].apply(lambda x:productID_25p_dict.get(x,0))\n",
    "test['Product_ID_25PercPrice'] = test['Product_ID'].apply(lambda x:productID_25p_dict.get(x,0))\n",
    "\n",
    "productID_50p_dict = train.groupby(['Product_ID'])['Purchase'].apply(lambda x:np.percentile(x,50)).to_dict()\n",
    "train['Product_ID_50PercPrice'] = train['Product_ID'].apply(lambda x:productID_50p_dict.get(x,0))\n",
    "test['Product_ID_50PercPrice'] = test['Product_ID'].apply(lambda x:productID_50p_dict.get(x,0))\n",
    "\n",
    "productID_75p_dict = train.groupby(['Product_ID'])['Purchase'].apply(lambda x:np.percentile(x,75)).to_dict()\n",
    "train['Product_ID_75PercPrice'] = train['Product_ID'].apply(lambda x:productID_75p_dict.get(x,0))\n",
    "test['Product_ID_75PercPrice'] = test['Product_ID'].apply(lambda x:productID_75p_dict.get(x,0))\n",
    "\n",
    "pc1_25p_dict = train.groupby(['Product_Category_1'])['Purchase'].apply(lambda x:np.percentile(x,25)).to_dict()\n",
    "train['Product_Cat1_25PercPrice'] = train['Product_Category_1'].apply(lambda x:pc1_25p_dict.get(x,0))\n",
    "test['Product_Cat1_25PercPrice'] = test['Product_Category_1'].apply(lambda x:pc1_25p_dict.get(x,0))\n",
    "\n",
    "pc1_50p_dict = train.groupby(['Product_Category_1'])['Purchase'].apply(lambda x:np.percentile(x,50)).to_dict()\n",
    "train['Product_Cat1_50PercPrice'] = train['Product_Category_1'].apply(lambda x:pc1_50p_dict.get(x,0))\n",
    "test['Product_Cat1_50PercPrice'] = test['Product_Category_1'].apply(lambda x:pc1_50p_dict.get(x,0))\n",
    "\n",
    "pc1_75p_dict = train.groupby(['Product_Category_1'])['Purchase'].apply(lambda x:np.percentile(x,75)).to_dict()\n",
    "train['Product_Cat1_75PercPrice'] = train['Product_Category_1'].apply(lambda x:pc1_75p_dict.get(x,0))\n",
    "test['Product_Cat1_75PercPrice'] = test['Product_Category_1'].apply(lambda x:pc1_75p_dict.get(x,0))\n",
    "\n",
    "\n",
    "pc2_25p_dict = train.groupby(['Product_Category_2'])['Purchase'].apply(lambda x:np.percentile(x,25)).to_dict()\n",
    "train['Product_Cat2_25PercPrice'] = train['Product_Category_2'].apply(lambda x:pc2_25p_dict.get(x,0))\n",
    "test['Product_Cat2_25PercPrice'] = test['Product_Category_2'].apply(lambda x:pc2_25p_dict.get(x,0))\n",
    "\n",
    "pc2_50p_dict = train.groupby(['Product_Category_2'])['Purchase'].apply(lambda x:np.percentile(x,50)).to_dict()\n",
    "train['Product_Cat2_50PercPrice'] = train['Product_Category_2'].apply(lambda x:pc2_50p_dict.get(x,0))\n",
    "test['Product_Cat2_50PercPrice'] = test['Product_Category_2'].apply(lambda x:pc2_50p_dict.get(x,0))\n",
    "\n",
    "pc2_75p_dict = train.groupby(['Product_Category_2'])['Purchase'].apply(lambda x:np.percentile(x,75)).to_dict()\n",
    "train['Product_Cat2_75PercPrice'] = train['Product_Category_2'].apply(lambda x:pc2_75p_dict.get(x,0))\n",
    "test['Product_Cat2_75PercPrice'] = test['Product_Category_2'].apply(lambda x:pc2_75p_dict.get(x,0))\n",
    "\n",
    "pc3_25p_dict = train.groupby(['Product_Category_3'])['Purchase'].apply(lambda x:np.percentile(x,25)).to_dict()\n",
    "train['Product_Cat3_25PercPrice'] = train['Product_Category_3'].apply(lambda x:pc3_25p_dict.get(x,0))\n",
    "test['Product_Cat3_25PercPrice'] = test['Product_Category_3'].apply(lambda x:pc3_25p_dict.get(x,0))\n",
    "\n",
    "pc3_50p_dict = train.groupby(['Product_Category_3'])['Purchase'].apply(lambda x:np.percentile(x,50)).to_dict()\n",
    "train['Product_Cat3_50PercPrice'] = train['Product_Category_3'].apply(lambda x:pc3_50p_dict.get(x,0))\n",
    "test['Product_Cat3_50PercPrice'] = test['Product_Category_3'].apply(lambda x:pc3_50p_dict.get(x,0))\n",
    "\n",
    "pc3_75p_dict = train.groupby(['Product_Category_3'])['Purchase'].apply(lambda x:np.percentile(x,75)).to_dict()\n",
    "train['Product_Cat3_75PercPrice'] = train['Product_Category_3'].apply(lambda x:pc3_75p_dict.get(x,0))\n",
    "test['Product_Cat3_75PercPrice'] = test['Product_Category_3'].apply(lambda x:pc3_75p_dict.get(x,0))\n",
    "\n",
    "train[\"Occupation_Count\"] = train.groupby(['Occupation'])['Occupation'].transform('count')\n",
    "occupation_count_dict = train.groupby(['Occupation']).size().to_dict()\n",
    "test['Occupation_Count'] = test['Occupation'].apply(lambda x:occupation_count_dict.get(x,0))\n",
    "\n",
    "train[\"Product_Category_1_Count\"] = train.groupby(['Product_Category_1'])['Product_Category_1'].transform('count')\n",
    "pc1_count_dict = train.groupby(['Product_Category_1']).size().to_dict()\n",
    "test['Product_Category_1_Count'] = test['Product_Category_1'].apply(lambda x:pc1_count_dict.get(x,0))\n",
    "\n",
    "train[\"Product_Category_2_Count\"] = train.groupby(['Product_Category_2'])['Product_Category_2'].transform('count')\n",
    "pc2_count_dict = train.groupby(['Product_Category_2']).size().to_dict()\n",
    "test['Product_Category_2_Count'] = test['Product_Category_2'].apply(lambda x:pc2_count_dict.get(x,0))\n",
    "\n",
    "train[\"Product_Category_3_Count\"] = train.groupby(['Product_Category_3'])['Product_Category_3'].transform('count')\n",
    "pc3_count_dict = train.groupby(['Product_Category_3']).size().to_dict()\n",
    "test['Product_Category_3_Count'] = test['Product_Category_3'].apply(lambda x:pc3_count_dict.get(x,0))"
   ]
  },
  {
   "cell_type": "code",
   "execution_count": 23,
   "metadata": {},
   "outputs": [],
   "source": [
    "auto3 = pd.DataFrame()\n",
    "auto3['User_ID'] = test['User_ID']\n",
    "auto3['Product_ID'] = test['Product_ID']\n",
    "cat_col=[\"User_ID\", \"Product_ID\"]\n",
    "for var in cat_col:\n",
    "    lb = preprocessing.LabelEncoder()\n",
    "    full_var_data = pd.concat((train[var], test[var]), axis=0).astype('str')\n",
    "    lb.fit(full_var_data)\n",
    "    train[var] = lb.transform(train[var].astype('str'))\n",
    "    test[var] = lb.transform(test[var].astype('str'))"
   ]
  },
  {
   "cell_type": "code",
   "execution_count": 24,
   "metadata": {},
   "outputs": [
    {
     "name": "stdout",
     "output_type": "stream",
     "text": [
      "Checking whether there is an H2O instance running at http://localhost:54321 ..... not found.\n",
      "Attempting to start a local H2O server...\n",
      "; Java HotSpot(TM) 64-Bit Server VM (build 25.231-b11, mixed mode)\n",
      "  Starting server from C:\\Users\\tsans\\anaconda3\\Lib\\site-packages\\h2o\\backend\\bin\\h2o.jar\n",
      "  Ice root: C:\\Users\\tsans\\AppData\\Local\\Temp\\tmp0srf2ycw\n",
      "  JVM stdout: C:\\Users\\tsans\\AppData\\Local\\Temp\\tmp0srf2ycw\\h2o_tsans_started_from_python.out\n",
      "  JVM stderr: C:\\Users\\tsans\\AppData\\Local\\Temp\\tmp0srf2ycw\\h2o_tsans_started_from_python.err\n",
      "  Server is running at http://127.0.0.1:54321\n",
      "Connecting to H2O server at http://127.0.0.1:54321 ... successful.\n"
     ]
    },
    {
     "data": {
      "text/html": [
       "<div style=\"overflow:auto\"><table style=\"width:50%\"><tr><td>H2O_cluster_uptime:</td>\n",
       "<td>01 secs</td></tr>\n",
       "<tr><td>H2O_cluster_timezone:</td>\n",
       "<td>Asia/Kolkata</td></tr>\n",
       "<tr><td>H2O_data_parsing_timezone:</td>\n",
       "<td>UTC</td></tr>\n",
       "<tr><td>H2O_cluster_version:</td>\n",
       "<td>3.32.0.2</td></tr>\n",
       "<tr><td>H2O_cluster_version_age:</td>\n",
       "<td>1 month and 10 days </td></tr>\n",
       "<tr><td>H2O_cluster_name:</td>\n",
       "<td>H2O_from_python_tsans_nvkm4a</td></tr>\n",
       "<tr><td>H2O_cluster_total_nodes:</td>\n",
       "<td>1</td></tr>\n",
       "<tr><td>H2O_cluster_free_memory:</td>\n",
       "<td>7.111 Gb</td></tr>\n",
       "<tr><td>H2O_cluster_total_cores:</td>\n",
       "<td>12</td></tr>\n",
       "<tr><td>H2O_cluster_allowed_cores:</td>\n",
       "<td>12</td></tr>\n",
       "<tr><td>H2O_cluster_status:</td>\n",
       "<td>accepting new members, healthy</td></tr>\n",
       "<tr><td>H2O_connection_url:</td>\n",
       "<td>http://127.0.0.1:54321</td></tr>\n",
       "<tr><td>H2O_connection_proxy:</td>\n",
       "<td>{\"http\": null, \"https\": null}</td></tr>\n",
       "<tr><td>H2O_internal_security:</td>\n",
       "<td>False</td></tr>\n",
       "<tr><td>H2O_API_Extensions:</td>\n",
       "<td>Amazon S3, Algos, AutoML, Core V3, TargetEncoder, Core V4</td></tr>\n",
       "<tr><td>Python_version:</td>\n",
       "<td>3.8.3 final</td></tr></table></div>"
      ],
      "text/plain": [
       "--------------------------  ---------------------------------------------------------\n",
       "H2O_cluster_uptime:         01 secs\n",
       "H2O_cluster_timezone:       Asia/Kolkata\n",
       "H2O_data_parsing_timezone:  UTC\n",
       "H2O_cluster_version:        3.32.0.2\n",
       "H2O_cluster_version_age:    1 month and 10 days\n",
       "H2O_cluster_name:           H2O_from_python_tsans_nvkm4a\n",
       "H2O_cluster_total_nodes:    1\n",
       "H2O_cluster_free_memory:    7.111 Gb\n",
       "H2O_cluster_total_cores:    12\n",
       "H2O_cluster_allowed_cores:  12\n",
       "H2O_cluster_status:         accepting new members, healthy\n",
       "H2O_connection_url:         http://127.0.0.1:54321\n",
       "H2O_connection_proxy:       {\"http\": null, \"https\": null}\n",
       "H2O_internal_security:      False\n",
       "H2O_API_Extensions:         Amazon S3, Algos, AutoML, Core V3, TargetEncoder, Core V4\n",
       "Python_version:             3.8.3 final\n",
       "--------------------------  ---------------------------------------------------------"
      ]
     },
     "metadata": {},
     "output_type": "display_data"
    }
   ],
   "source": [
    "import h2o\n",
    "from h2o.automl import H2OAutoML\n",
    "h2o.init(\n",
    "    nthreads=-1,     # number of threads when launching a new H2O server\n",
    "    max_mem_size=8  # in gigabytes\n",
    ")"
   ]
  },
  {
   "cell_type": "code",
   "execution_count": 25,
   "metadata": {},
   "outputs": [],
   "source": [
    "train['Stay_In_Current_City_Years'] = train['Stay_In_Current_City_Years'].astype(int)\n",
    "test['Stay_In_Current_City_Years'] = test['Stay_In_Current_City_Years'].astype(int)"
   ]
  },
  {
   "cell_type": "code",
   "execution_count": 26,
   "metadata": {},
   "outputs": [
    {
     "name": "stdout",
     "output_type": "stream",
     "text": [
      "Parse progress: |█████████████████████████████████████████████████████████| 100%\n",
      "Parse progress: |█████████████████████████████████████████████████████████| 100%\n",
      "done\n"
     ]
    }
   ],
   "source": [
    "train = h2o.H2OFrame(train)\n",
    "test = h2o.H2OFrame(test)\n",
    "print('done')"
   ]
  },
  {
   "cell_type": "code",
   "execution_count": 27,
   "metadata": {},
   "outputs": [],
   "source": [
    "x = train.columns\n",
    "y = \"Purchase\"\n",
    "x.remove(y)"
   ]
  },
  {
   "cell_type": "code",
   "execution_count": 28,
   "metadata": {},
   "outputs": [
    {
     "name": "stdout",
     "output_type": "stream",
     "text": [
      "AutoML progress: |\n",
      "14:34:16.980: AutoML: XGBoost is not available; skipping it.\n",
      "\n",
      "████████████████████████████████████████████████████████| 100%\n"
     ]
    }
   ],
   "source": [
    "aml = H2OAutoML(max_models=12, seed=1)\n",
    "aml.train(x=x, y=y, training_frame=train)"
   ]
  },
  {
   "cell_type": "code",
   "execution_count": 29,
   "metadata": {},
   "outputs": [
    {
     "data": {
      "text/html": [
       "<table>\n",
       "<thead>\n",
       "<tr><th>model_id                                           </th><th style=\"text-align: right;\">  mean_residual_deviance</th><th style=\"text-align: right;\">   rmse</th><th style=\"text-align: right;\">        mse</th><th style=\"text-align: right;\">    mae</th><th style=\"text-align: right;\">     rmsle</th></tr>\n",
       "</thead>\n",
       "<tbody>\n",
       "<tr><td>StackedEnsemble_AllModels_AutoML_20201228_143416   </td><td style=\"text-align: right;\">             5.70948e+06</td><td style=\"text-align: right;\">2389.45</td><td style=\"text-align: right;\">5.70948e+06</td><td style=\"text-align: right;\">1745.77</td><td style=\"text-align: right;\">nan       </td></tr>\n",
       "<tr><td>StackedEnsemble_BestOfFamily_AutoML_20201228_143416</td><td style=\"text-align: right;\">             5.74758e+06</td><td style=\"text-align: right;\">2397.41</td><td style=\"text-align: right;\">5.74758e+06</td><td style=\"text-align: right;\">1751.79</td><td style=\"text-align: right;\">nan       </td></tr>\n",
       "<tr><td>GBM_5_AutoML_20201228_143416                       </td><td style=\"text-align: right;\">             5.75964e+06</td><td style=\"text-align: right;\">2399.93</td><td style=\"text-align: right;\">5.75964e+06</td><td style=\"text-align: right;\">1753.37</td><td style=\"text-align: right;\">nan       </td></tr>\n",
       "<tr><td>GBM_4_AutoML_20201228_143416                       </td><td style=\"text-align: right;\">             5.76707e+06</td><td style=\"text-align: right;\">2401.47</td><td style=\"text-align: right;\">5.76707e+06</td><td style=\"text-align: right;\">1756.52</td><td style=\"text-align: right;\">nan       </td></tr>\n",
       "<tr><td>GBM_grid__1_AutoML_20201228_143416_model_2         </td><td style=\"text-align: right;\">             5.79899e+06</td><td style=\"text-align: right;\">2408.11</td><td style=\"text-align: right;\">5.79899e+06</td><td style=\"text-align: right;\">1756.79</td><td style=\"text-align: right;\">nan       </td></tr>\n",
       "<tr><td>GBM_3_AutoML_20201228_143416                       </td><td style=\"text-align: right;\">             5.8116e+06 </td><td style=\"text-align: right;\">2410.73</td><td style=\"text-align: right;\">5.8116e+06 </td><td style=\"text-align: right;\">1765.6 </td><td style=\"text-align: right;\">nan       </td></tr>\n",
       "<tr><td>GBM_2_AutoML_20201228_143416                       </td><td style=\"text-align: right;\">             5.83748e+06</td><td style=\"text-align: right;\">2416.09</td><td style=\"text-align: right;\">5.83748e+06</td><td style=\"text-align: right;\">1771.08</td><td style=\"text-align: right;\">nan       </td></tr>\n",
       "<tr><td>GBM_1_AutoML_20201228_143416                       </td><td style=\"text-align: right;\">             5.86851e+06</td><td style=\"text-align: right;\">2422.5 </td><td style=\"text-align: right;\">5.86851e+06</td><td style=\"text-align: right;\">1776.57</td><td style=\"text-align: right;\">nan       </td></tr>\n",
       "<tr><td>GBM_grid__1_AutoML_20201228_143416_model_1         </td><td style=\"text-align: right;\">             5.88586e+06</td><td style=\"text-align: right;\">2426.08</td><td style=\"text-align: right;\">5.88586e+06</td><td style=\"text-align: right;\">1779.41</td><td style=\"text-align: right;\">nan       </td></tr>\n",
       "<tr><td>DRF_1_AutoML_20201228_143416                       </td><td style=\"text-align: right;\">             5.89499e+06</td><td style=\"text-align: right;\">2427.96</td><td style=\"text-align: right;\">5.89499e+06</td><td style=\"text-align: right;\">1775.21</td><td style=\"text-align: right;\">  0.314585</td></tr>\n",
       "<tr><td>XRT_1_AutoML_20201228_143416                       </td><td style=\"text-align: right;\">             5.90009e+06</td><td style=\"text-align: right;\">2429.01</td><td style=\"text-align: right;\">5.90009e+06</td><td style=\"text-align: right;\">1776.42</td><td style=\"text-align: right;\">  0.314775</td></tr>\n",
       "<tr><td>DeepLearning_1_AutoML_20201228_143416              </td><td style=\"text-align: right;\">             6.17407e+06</td><td style=\"text-align: right;\">2484.77</td><td style=\"text-align: right;\">6.17407e+06</td><td style=\"text-align: right;\">1828.57</td><td style=\"text-align: right;\">nan       </td></tr>\n",
       "<tr><td>DeepLearning_grid__1_AutoML_20201228_143416_model_1</td><td style=\"text-align: right;\">             6.54403e+06</td><td style=\"text-align: right;\">2558.13</td><td style=\"text-align: right;\">6.54403e+06</td><td style=\"text-align: right;\">1894.34</td><td style=\"text-align: right;\">nan       </td></tr>\n",
       "<tr><td>GLM_1_AutoML_20201228_143416                       </td><td style=\"text-align: right;\">             2.43716e+07</td><td style=\"text-align: right;\">4936.76</td><td style=\"text-align: right;\">2.43716e+07</td><td style=\"text-align: right;\">4005.39</td><td style=\"text-align: right;\">  0.761578</td></tr>\n",
       "</tbody>\n",
       "</table>"
      ]
     },
     "metadata": {},
     "output_type": "display_data"
    },
    {
     "data": {
      "text/plain": []
     },
     "execution_count": 29,
     "metadata": {},
     "output_type": "execute_result"
    }
   ],
   "source": [
    "lb = aml.leaderboard\n",
    "lb.head(rows=lb.nrows)"
   ]
  },
  {
   "cell_type": "code",
   "execution_count": 30,
   "metadata": {},
   "outputs": [
    {
     "name": "stdout",
     "output_type": "stream",
     "text": [
      "stackedensemble prediction progress: |████████████████████████████████████| 100%\n",
      "stackedensemble prediction progress: |████████████████████████████████████| 100%\n"
     ]
    }
   ],
   "source": [
    "predleader = aml.leader.predict(test)\n",
    "pred = aml.predict(test)"
   ]
  },
  {
   "cell_type": "code",
   "execution_count": 32,
   "metadata": {},
   "outputs": [],
   "source": [
    "dfpred = h2o.as_list(predleader)\n",
    "auto3['Purchase'] = dfpred\n",
    "#sum(n < 0 for n in auto3[\"Purchase\"].values.flatten())\n",
    "auto3[auto3[\"Purchase\"] < 0] = 0\n",
    "auto3.to_csv('auto3.csv',index=False)"
   ]
  },
  {
   "cell_type": "code",
   "execution_count": 34,
   "metadata": {},
   "outputs": [
    {
     "name": "stderr",
     "output_type": "stream",
     "text": [
      "<ipython-input-34-1edf85295eae>:1: H2ODeprecationWarning: Deprecated, use ``h2o.cluster().shutdown()``.\n",
      "  h2o.shutdown()\n"
     ]
    }
   ],
   "source": [
    "h2o.shutdown()"
   ]
  },
  {
   "cell_type": "code",
   "execution_count": null,
   "metadata": {},
   "outputs": [],
   "source": []
  }
 ],
 "metadata": {
  "kernelspec": {
   "display_name": "Python 3",
   "language": "python",
   "name": "python3"
  },
  "language_info": {
   "codemirror_mode": {
    "name": "ipython",
    "version": 3
   },
   "file_extension": ".py",
   "mimetype": "text/x-python",
   "name": "python",
   "nbconvert_exporter": "python",
   "pygments_lexer": "ipython3",
   "version": "3.8.3"
  }
 },
 "nbformat": 4,
 "nbformat_minor": 4
}
